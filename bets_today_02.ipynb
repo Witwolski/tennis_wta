{
 "cells": [
  {
   "cell_type": "code",
   "execution_count": 10,
   "metadata": {},
   "outputs": [],
   "source": [
    "import pandas as pd\n",
    "import numpy as np\n",
    "from sqlalchemy import create_engine\n",
    "username = r\"ChrisDB\"\n",
    "password = \"babinda08\"\n",
    "server = r\"localhost\"\n",
    "database = \"Bets\"\n",
    "devconnection_uri = \"mssql+pymssql://{}:{}@{}/{}\".format(\n",
    "    username, password, server, database)\n",
    "devengine = create_engine(devconnection_uri)\n",
    "\n",
    "data=pd.read_sql_query(\"Select distinct * FROM Elo_AllMatches_Today\",con=devengine)\n",
    "data['Elo_Dog']=data.apply(lambda x: x['Winner'] if x['Winner']!=x['Elo_Fav'] else x['Loser'],axis=1)\n",
    "filter1=data[['Sex','Elo_Fav','Elo_Dog','Elo_Fav_Odds','Elo_Fav_Est_Odds','Elo_Dog_Odds','Elo_Dog_Est_Odds','Wins','Losses']].copy()\n",
    "filter1['WinsLosses_']=filter1[['Wins','Losses']].max(axis=1)\n",
    "filter1['WinsLosses']=(filter1['WinsLosses_'] / 10).apply(np.floor).astype(int) *10\n",
    "filter1['Thresh']=(filter1['Elo_Fav_Odds'] / 0.10).apply(np.ceil).astype(float) *0.10\n",
    "filter1.drop(columns=['Wins','Losses'],inplace=True)\n",
    "filter1=filter1[(filter1['WinsLosses'].ge(20))]\n",
    "filter1['Higher']=filter1.apply(lambda x: 'Higher' if x['Elo_Fav_Odds']<(x['Elo_Fav_Est_Odds']) else 'Lower' ,axis=1)\n",
    "filter1.sort_values(['Elo_Fav_Odds'],ascending=True).to_excel('Bets_Today.xlsx',index=False)"
   ]
  }
 ],
 "metadata": {
  "kernelspec": {
   "display_name": "Python 3.9.13 64-bit",
   "language": "python",
   "name": "python3"
  },
  "language_info": {
   "codemirror_mode": {
    "name": "ipython",
    "version": 3
   },
   "file_extension": ".py",
   "mimetype": "text/x-python",
   "name": "python",
   "nbconvert_exporter": "python",
   "pygments_lexer": "ipython3",
   "version": "3.9.13"
  },
  "orig_nbformat": 4,
  "vscode": {
   "interpreter": {
    "hash": "6fff98fc3b3d81bd655c2cc48858186e4d9e2db7b515bf1c3221888f12a62f87"
   }
  }
 },
 "nbformat": 4,
 "nbformat_minor": 2
}
