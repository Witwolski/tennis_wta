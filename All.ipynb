{
 "cells": [
  {
   "cell_type": "code",
   "execution_count": 39,
   "metadata": {},
   "outputs": [],
   "source": [
    "from sqlalchemy import create_engine\n",
    "import pandas as pd\n",
    "import numpy as np\n",
    "devengine = create_engine(\"sqlite:///C:/Git/tennis_atp/database/bets_sqllite.db\")"
   ]
  },
  {
   "cell_type": "code",
   "execution_count": 44,
   "metadata": {},
   "outputs": [],
   "source": [
    "elo_data = pd.read_sql_query(\n",
    "    \"Select DISTINCT * From AllMatches where Date > '2022-01-01'\",\n",
    "    con=devengine,\n",
    ")\n"
   ]
  },
  {
   "cell_type": "code",
   "execution_count": 41,
   "metadata": {},
   "outputs": [],
   "source": [
    "elo_data=elo_data[elo_data['Sex']=='Mens']\n",
    "elo_data['Fav']=elo_data.apply(lambda x: x['Player_1'] if  x['Player_1_Odds']<x['Player_2_Odds'] else x['Player_2'],axis=1)\n",
    "elo_data['Dog']=elo_data.apply(lambda x: x['Player_2'] if  x['Player_1_Odds']<x['Player_2_Odds'] else x['Player_1'],axis=1)\n",
    "elo_data['Fav_Odds']=elo_data.apply(lambda x: x['Player_1_Odds'] if  x['Player_1_Odds']<x['Player_2_Odds'] else x['Player_2_Odds'],axis=1)\n",
    "elo_data['Dog_Odds']=elo_data.apply(lambda x: x['Player_2_Odds'] if  x['Player_1_Odds']<x['Player_2_Odds'] else x['Player_1_Odds'],axis=1)\n",
    "elo_data[['Fav_Odds','Dog_Odds']]=elo_data[['Fav_Odds','Dog_Odds']].astype(float)\n",
    "elo_data.to_excel('delete.xlsx',index=False)\n",
    "#elo_data[elo_data['Fav_Odds']==elo_data['Dog_Odds']]"
   ]
  },
  {
   "cell_type": "code",
   "execution_count": 42,
   "metadata": {},
   "outputs": [
    {
     "name": "stdout",
     "output_type": "stream",
     "text": [
      "2.5 2.6 0.4142857142857143\n",
      "18260.0\n",
      "3.2 3.3 0.3096774193548387\n",
      "710.0\n",
      "3.6 3.7 0.29357798165137616\n",
      "7970.0\n",
      "3.7 3.8 0.2755102040816326\n",
      "3075.0\n"
     ]
    }
   ],
   "source": [
    "for x in range(2,4):\n",
    "    for y in range(0,10):\n",
    "        lower=x+(y*0.1)\n",
    "        upper=x+((y+1)*0.1)\n",
    "        #print(lower,upper)\n",
    "        test1=elo_data[(elo_data['Dog_Odds'].ge(lower))&(elo_data['Dog_Odds'].le(upper))].copy()\n",
    "        percent=len(test1[test1['Player_1']!=test1['Fav']])/len(test1)\n",
    "        STAKE=500\n",
    "        test1['Profit']=test1.apply(lambda x: -STAKE if x['Player_1']==x['Fav'] else (STAKE * x['Dog_Odds'])-STAKE,axis=1)\n",
    "        if test1['Profit'].sum() >0 and len(test1) >20:\n",
    "            print(lower,upper,percent)\n",
    "            print(test1['Profit'].sum())\n"
   ]
  },
  {
   "cell_type": "code",
   "execution_count": 43,
   "metadata": {},
   "outputs": [],
   "source": [
    "for x in range(1,4):\n",
    "    for y in range(0,10):\n",
    "        lower=x+(y*0.1)\n",
    "        upper=x+((y+1)*0.1)\n",
    "\n",
    "        test1=elo_data[(elo_data['Fav_Odds'].ge(lower))&(elo_data['Fav_Odds'].le(upper))].copy()\n",
    "        if len(test1) > 0:\n",
    "            percent=len(test1[test1['Player_1']==test1['Fav']])/len(test1)\n",
    "            STAKE=500\n",
    "            test1['Profit']=test1.apply(lambda x: -STAKE if x['Player_1']!=x['Fav'] else (STAKE * x['Fav_Odds'])-STAKE,axis=1)\n",
    "            if test1['Profit'].sum() >0 and len(test1) >20:\n",
    "                print(lower,upper,percent)\n",
    "                print(test1['Profit'].sum())\n"
   ]
  }
 ],
 "metadata": {
  "kernelspec": {
   "display_name": "Python 3",
   "language": "python",
   "name": "python3"
  },
  "language_info": {
   "codemirror_mode": {
    "name": "ipython",
    "version": 3
   },
   "file_extension": ".py",
   "mimetype": "text/x-python",
   "name": "python",
   "nbconvert_exporter": "python",
   "pygments_lexer": "ipython3",
   "version": "3.9.5 (tags/v3.9.5:0a7dcbd, May  3 2021, 17:27:52) [MSC v.1928 64 bit (AMD64)]"
  },
  "orig_nbformat": 4,
  "vscode": {
   "interpreter": {
    "hash": "9e3bfd5707cea17bcbe380e30b983be31a9c4e73ed42697506103186bbe325e5"
   }
  }
 },
 "nbformat": 4,
 "nbformat_minor": 2
}
