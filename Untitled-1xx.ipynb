{
 "cells": [
  {
   "cell_type": "code",
   "execution_count": 68,
   "metadata": {},
   "outputs": [],
   "source": [
    "import pandas as pd\n",
    "import numpy as np\n",
    "import os\n",
    "import datetime\n",
    "path = os.getcwd()\n",
    "files = os.listdir(r\"C:\\Git\\tennis_atp\\_superseded\")\n",
    "files_xls = [f for f in files if  (f.startswith('wta_matches_') or f.startswith('atp_matches_')) and \"_202\" in f.title()]\n",
    "\n",
    "# %%\n",
    "#create empty dataframe\n",
    "data=pd.DataFrame()\n",
    "\n",
    "# %%\n",
    "#extract and append data into the created empty dataframe\n",
    "for f in files_xls:\n",
    "    raw_data = pd.read_csv(f,low_memory=False)\n",
    "    data = data.append(raw_data)"
   ]
  },
  {
   "cell_type": "code",
   "execution_count": 69,
   "metadata": {},
   "outputs": [],
   "source": [
    "data['tourney_date']=pd.to_datetime(data['tourney_date'],format='%Y%m%d')"
   ]
  },
  {
   "cell_type": "code",
   "execution_count": 70,
   "metadata": {},
   "outputs": [],
   "source": [
    "data.to_csv('jeff.csv',index=False)"
   ]
  },
  {
   "cell_type": "code",
   "execution_count": 71,
   "metadata": {},
   "outputs": [],
   "source": [
    "from sqlalchemy import create_engine\n",
    "import pandas as pd\n",
    "import numpy as np\n",
    "import datetime\n",
    "devengine = create_engine(\"sqlite:///C:/Git/tennis_atp/database/bets_sqllite.db\")"
   ]
  },
  {
   "cell_type": "code",
   "execution_count": 72,
   "metadata": {},
   "outputs": [],
   "source": [
    "db_data=pd.read_sql_query(\"Select * FROM AllMatches where tournament not like 'UTR Pro%' and tournament not like 'Davis Cup%'\",con=devengine)\n",
    "db_data['Date']=pd.to_datetime(db_data['Date'])\n",
    "db_data['Date']=db_data['Date'].dt.strftime('%Y-%m-%d')\n",
    "db_data['Date']=pd.to_datetime(db_data['Date'],format='%Y-%m-%d')\n",
    "db_data['Date_month']=db_data['Date'].dt.strftime('%Y-%m')\n",
    "data['Date_month']=data['tourney_date'].dt.strftime('%Y-%m')\n",
    "name_dict=pd.read_csv(r\"C:\\Git\\tennis_atp\\name_lookup.csv\")\n",
    "ids = dict(zip(name_dict['old'], name_dict['new']))\n",
    "db_data['Player_1'] = db_data['Player_1'].replace(ids, regex=True)\n",
    "db_data['Player_2'] = db_data['Player_2'].replace(ids, regex=True)\n",
    "data=data[['Date_month','winner_name','loser_name','winner_rank','loser_rank']]"
   ]
  },
  {
   "cell_type": "code",
   "execution_count": 73,
   "metadata": {},
   "outputs": [],
   "source": [
    "merged=db_data.merge(data,how='left',left_on=['Date_month','Player_1','Player_2'],right_on=['Date_month','winner_name','loser_name'])\n",
    "merged['Player_1_Rank']=merged.apply(lambda x: x['winner_rank'] if pd.notna(x['winner_rank']) else x['Player_1_Rank'],axis=1)\n",
    "merged['Player_2_Rank']=merged.apply(lambda x: x['loser_rank'] if pd.notna(x['loser_rank']) else x['Player_2_Rank'],axis=1)\n",
    "merged=merged.drop(columns=['Date_month','winner_name','loser_rank','loser_name','winner_rank'])\n",
    "merged=merged.sort_values(by='Date')\n",
    "merged.to_sql('AllMatches',index=False,if_exists='replace',con=devengine)"
   ]
  },
  {
   "cell_type": "code",
   "execution_count": null,
   "metadata": {},
   "outputs": [],
   "source": [
    "winner1=db_data['Player_1'].drop_duplicates()#.to_list()\n",
    "winner2=data['winner_name'].drop_duplicates().to_list()\n",
    "winner1_mismatch=db_data[~(db_data['Player_1']).isin(winner2)]\n",
    "winner1_mismatch['Player_1'].drop_duplicates().to_clipboard()"
   ]
  }
 ],
 "metadata": {
  "kernelspec": {
   "display_name": "Python 3.9.5 64-bit",
   "language": "python",
   "name": "python3"
  },
  "language_info": {
   "codemirror_mode": {
    "name": "ipython",
    "version": 3
   },
   "file_extension": ".py",
   "mimetype": "text/x-python",
   "name": "python",
   "nbconvert_exporter": "python",
   "pygments_lexer": "ipython3",
   "version": "3.9.5"
  },
  "orig_nbformat": 4,
  "vscode": {
   "interpreter": {
    "hash": "9e3bfd5707cea17bcbe380e30b983be31a9c4e73ed42697506103186bbe325e5"
   }
  }
 },
 "nbformat": 4,
 "nbformat_minor": 2
}
