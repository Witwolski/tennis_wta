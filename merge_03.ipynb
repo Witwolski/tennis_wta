{
 "cells": [
  {
   "cell_type": "code",
   "execution_count": 1,
   "metadata": {},
   "outputs": [
    {
     "name": "stderr",
     "output_type": "stream",
     "text": [
      "C:\\Users\\Administrator\\AppData\\Local\\Temp\\ipykernel_3656\\40861922.py:13: SettingWithCopyWarning: \n",
      "A value is trying to be set on a copy of a slice from a DataFrame\n",
      "\n",
      "See the caveats in the documentation: https://pandas.pydata.org/pandas-docs/stable/user_guide/indexing.html#returning-a-view-versus-a-copy\n",
      "  filtered_data.sort_values(by='WinsLosses_y',ascending=False,inplace=True)\n"
     ]
    }
   ],
   "source": [
    "import pandas as pd\n",
    "\n",
    "todays_matches=pd.read_excel(\"Bets_Today.xlsx\")\n",
    "todays_matches=todays_matches.round({'Thresh': 1})\n",
    "\n",
    "prev_analysis=pd.read_excel(\"analysis.xlsx\")\n",
    "prev_analysis=prev_analysis[prev_analysis['FavDog']=='Fav']\n",
    "\n",
    "combine_data=pd.merge(todays_matches,prev_analysis,how='inner',left_on=['Sex','Thresh','Higher'],right_on=['Sex','Thresh','HigherLower'],suffixes=['','_y'])\n",
    "combine_data['Filter']=combine_data.apply(lambda x: True if x['WinsLosses_y'] <= x['WinsLosses'] else False,axis=1)\n",
    "\n",
    "filtered_data=combine_data[combine_data['Filter']==True]\n",
    "filtered_data.sort_values(by='WinsLosses_y',ascending=False,inplace=True)\n",
    "\n",
    "output_data=filtered_data[[\"Sex\",\"Elo_Fav\",\"Elo_Dog\",\"Elo_Fav_Odds\",\"Elo_Fav_Est_Odds\",'WinsLosses','WinsLosses_y','WinPercent','Games','Profit','Games_y','Profit_y']]\n",
    "output_data.drop_duplicates(subset='Elo_Fav').to_excel('DailyFiltered.xlsx',index=False)"
   ]
  }
 ],
 "metadata": {
  "kernelspec": {
   "display_name": "Python 3.9.13 64-bit",
   "language": "python",
   "name": "python3"
  },
  "language_info": {
   "codemirror_mode": {
    "name": "ipython",
    "version": 3
   },
   "file_extension": ".py",
   "mimetype": "text/x-python",
   "name": "python",
   "nbconvert_exporter": "python",
   "pygments_lexer": "ipython3",
   "version": "3.9.13"
  },
  "orig_nbformat": 4,
  "vscode": {
   "interpreter": {
    "hash": "6fff98fc3b3d81bd655c2cc48858186e4d9e2db7b515bf1c3221888f12a62f87"
   }
  }
 },
 "nbformat": 4,
 "nbformat_minor": 2
}
